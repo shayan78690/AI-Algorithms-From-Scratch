{
  "nbformat": 4,
  "nbformat_minor": 0,
  "metadata": {
    "colab": {
      "provenance": []
    },
    "kernelspec": {
      "name": "python3",
      "display_name": "Python 3"
    },
    "language_info": {
      "name": "python"
    }
  },
  "cells": [
    {
      "cell_type": "code",
      "source": [
        "import numpy as np\n",
        "X = np.array([[73, 67, 43],\n",
        "                   [91, 88, 64],\n",
        "                   [87, 134, 58],\n",
        "                   [102, 43, 37],\n",
        "                   [69, 96, 70]], dtype='float32')\n",
        "\n",
        "y = np.array([56, 81, 119, 22, 103], dtype='float32')\n",
        "\n",
        "ones = np.ones(shape=(len(X), 1))\n",
        "X = np.append(ones, X, axis=1)\n",
        "\n",
        "beta = np.linalg.inv(X.T.dot(X)).dot(X.T).dot(y)\n",
        "\n",
        "beta = np.linalg.inv(X.T @ X) @ X.T @ y\n",
        "\n",
        "predictions = X.dot(beta)\n",
        "ss_residuals = np.sum(np.square(y - predictions))\n",
        "ss_total = np.sum(np.square(y - np.mean(y)))\n",
        "r2_score = 1 - (ss_residuals/ss_total)\n",
        "\n",
        "print(\"R^2 Score:\", r2_score)  # Output: R^2 Score: 0.9992"
      ],
      "metadata": {
        "colab": {
          "base_uri": "https://localhost:8080/"
        },
        "id": "qeI0ylEydR9e",
        "outputId": "d366e4e1-6a02-45f1-adce-19b22507ad86"
      },
      "execution_count": null,
      "outputs": [
        {
          "output_type": "stream",
          "name": "stdout",
          "text": [
            "R^2 Score: 0.999187741755682\n"
          ]
        }
      ]
    },
    {
      "cell_type": "code",
      "source": [
        "import numpy as np\n",
        "\n",
        "# Step 1: Add Bias (Intercept) Term\n",
        "def add_bias_column(X):\n",
        "    ones = np.ones((X.shape[0], 1))\n",
        "    return np.append(ones, X, axis=1)\n",
        "\n",
        "# Step 2: Calculate Coefficients Using the Normal Equation\n",
        "def compute_coefficients(X, y):\n",
        "    X_biased = add_bias_column(X)\n",
        "    beta = np.linalg.inv(X_biased.T @ X_biased) @ X_biased.T @ y\n",
        "    return beta\n",
        "\n",
        "# Step 3: Predict Values\n",
        "def predict(X, beta):\n",
        "    X_biased = add_bias_column(X)\n",
        "    return X_biased @ beta\n",
        "\n",
        "# Step 4: Evaluate Model Using R² Score\n",
        "def evaluate_model(y_true, y_pred):\n",
        "    ss_residuals = np.sum((y_true - y_pred) ** 2)\n",
        "    ss_total = np.sum((y_true - np.mean(y_true)) ** 2)\n",
        "    r2_score = 1 - (ss_residuals / ss_total)\n",
        "    return r2_score\n",
        "\n",
        "# Step 5: Main Logic to Run the Regression\n",
        "def run_multiple_linear_regression(X, y):\n",
        "    beta = compute_coefficients(X, y)\n",
        "    predictions = predict(X, beta)\n",
        "    r2 = evaluate_model(y, predictions)\n",
        "\n",
        "    print(\"Coefficients (including intercept):\", beta)\n",
        "    print(\"R² Score:\", round(r2, 4))\n",
        "    return beta, predictions, r2\n",
        "\n",
        "# Step 6: Example Dataset\n",
        "X = np.array([\n",
        "    [73, 67, 43],\n",
        "    [91, 88, 64],\n",
        "    [87, 134, 58],\n",
        "    [102, 43, 37],\n",
        "    [69, 96, 70]\n",
        "], dtype='float32')\n",
        "\n",
        "y = np.array([56, 81, 119, 22, 103], dtype='float32')\n",
        "\n",
        "# Run the Model\n",
        "run_multiple_linear_regression(X, y)"
      ],
      "metadata": {
        "id": "Y4ODDFYSnBOq"
      },
      "execution_count": null,
      "outputs": []
    }
  ]
}