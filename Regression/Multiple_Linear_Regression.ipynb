{
  "nbformat": 4,
  "nbformat_minor": 0,
  "metadata": {
    "colab": {
      "provenance": []
    },
    "kernelspec": {
      "name": "python3",
      "display_name": "Python 3"
    },
    "language_info": {
      "name": "python"
    }
  },
  "cells": [
    {
      "cell_type": "code",
      "source": [
        "import numpy as np\n",
        "X = np.array([[73, 67, 43],\n",
        "                   [91, 88, 64],\n",
        "                   [87, 134, 58],\n",
        "                   [102, 43, 37],\n",
        "                   [69, 96, 70]], dtype='float32')\n",
        "\n",
        "y = np.array([56, 81, 119, 22, 103], dtype='float32')\n",
        "\n",
        "ones = np.ones(shape=(len(X), 1))\n",
        "X = np.append(ones, X, axis=1)\n",
        "\n",
        "beta = np.linalg.inv(X.T.dot(X)).dot(X.T).dot(y)\n",
        "\n",
        "beta = np.linalg.inv(X.T @ X) @ X.T @ y\n",
        "\n",
        "predictions = X.dot(beta)\n",
        "ss_residuals = np.sum(np.square(y - predictions))\n",
        "ss_total = np.sum(np.square(y - np.mean(y)))\n",
        "r2_score = 1 - (ss_residuals/ss_total)\n",
        "\n",
        "print(\"R^2 Score:\", r2_score)  # Output: R^2 Score: 0.9992"
      ],
      "metadata": {
        "colab": {
          "base_uri": "https://localhost:8080/"
        },
        "id": "qeI0ylEydR9e",
        "outputId": "d366e4e1-6a02-45f1-adce-19b22507ad86"
      },
      "execution_count": 1,
      "outputs": [
        {
          "output_type": "stream",
          "name": "stdout",
          "text": [
            "R^2 Score: 0.999187741755682\n"
          ]
        }
      ]
    }
  ]
}